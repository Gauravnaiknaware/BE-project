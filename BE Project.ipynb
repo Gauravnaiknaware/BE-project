{
 "cells": [
  {
   "cell_type": "code",
   "execution_count": 1,
   "id": "7be6a7c4",
   "metadata": {},
   "outputs": [],
   "source": [
    "import pandas as pd"
   ]
  },
  {
   "cell_type": "code",
   "execution_count": 38,
   "id": "ddb7abb5",
   "metadata": {},
   "outputs": [],
   "source": [
    "import numpy as np"
   ]
  },
  {
   "cell_type": "code",
   "execution_count": 2,
   "id": "e2644c9d",
   "metadata": {},
   "outputs": [
    {
     "name": "stdout",
     "output_type": "stream",
     "text": [
      "3.9.7 (default, Sep 16 2021, 16:59:28) [MSC v.1916 64 bit (AMD64)]\n"
     ]
    }
   ],
   "source": [
    "import sys\n",
    "print(sys.version)"
   ]
  },
  {
   "cell_type": "code",
   "execution_count": 3,
   "id": "d957a947",
   "metadata": {},
   "outputs": [
    {
     "name": "stdout",
     "output_type": "stream",
     "text": [
      "Requirement already satisfied: xgboost in c:\\users\\gaurav\\appdata\\roaming\\python\\python39\\site-packages (2.1.4)\n",
      "Requirement already satisfied: scipy in c:\\users\\gaurav\\anaconda\\lib\\site-packages (from xgboost) (1.7.1)\n",
      "Requirement already satisfied: numpy in c:\\users\\gaurav\\anaconda\\lib\\site-packages (from xgboost) (1.20.3)\n"
     ]
    }
   ],
   "source": [
    " !pip install xgboost --user"
   ]
  },
  {
   "cell_type": "code",
   "execution_count": 4,
   "id": "8b47f53c",
   "metadata": {},
   "outputs": [],
   "source": [
    " import xgboost as xgb"
   ]
  },
  {
   "cell_type": "code",
   "execution_count": 5,
   "id": "facb72a7",
   "metadata": {},
   "outputs": [],
   "source": [
    "from sklearn.model_selection import train_test_split"
   ]
  },
  {
   "cell_type": "code",
   "execution_count": 6,
   "id": "3d736af2",
   "metadata": {},
   "outputs": [],
   "source": [
    "from sklearn.metrics import mean_squared_error, r2_score"
   ]
  },
  {
   "cell_type": "code",
   "execution_count": 7,
   "id": "1aecf5c3",
   "metadata": {},
   "outputs": [],
   "source": [
    " file_path=\"C:/Users/Gaurav/OneDrive/Desktop/GDSC_DATASET.csv\""
   ]
  },
  {
   "cell_type": "code",
   "execution_count": 8,
   "id": "7514fc99",
   "metadata": {},
   "outputs": [],
   "source": [
    " df=pd.read_csv(file_path)"
   ]
  },
  {
   "cell_type": "code",
   "execution_count": 9,
   "id": "6ad5238a",
   "metadata": {},
   "outputs": [
    {
     "data": {
      "text/html": [
       "<div>\n",
       "<style scoped>\n",
       "    .dataframe tbody tr th:only-of-type {\n",
       "        vertical-align: middle;\n",
       "    }\n",
       "\n",
       "    .dataframe tbody tr th {\n",
       "        vertical-align: top;\n",
       "    }\n",
       "\n",
       "    .dataframe thead th {\n",
       "        text-align: right;\n",
       "    }\n",
       "</style>\n",
       "<table border=\"1\" class=\"dataframe\">\n",
       "  <thead>\n",
       "    <tr style=\"text-align: right;\">\n",
       "      <th></th>\n",
       "      <th>COSMIC_ID</th>\n",
       "      <th>CELL_LINE_NAME</th>\n",
       "      <th>TCGA_DESC</th>\n",
       "      <th>DRUG_ID</th>\n",
       "      <th>DRUG_NAME</th>\n",
       "      <th>LN_IC50</th>\n",
       "      <th>AUC</th>\n",
       "      <th>Z_SCORE</th>\n",
       "      <th>GDSC Tissue descriptor 1</th>\n",
       "      <th>GDSC Tissue descriptor 2</th>\n",
       "      <th>Cancer Type (matching TCGA label)</th>\n",
       "      <th>Microsatellite instability Status (MSI)</th>\n",
       "      <th>Screen Medium</th>\n",
       "      <th>Growth Properties</th>\n",
       "      <th>CNA</th>\n",
       "      <th>Gene Expression</th>\n",
       "      <th>Methylation</th>\n",
       "      <th>TARGET</th>\n",
       "      <th>TARGET_PATHWAY</th>\n",
       "    </tr>\n",
       "  </thead>\n",
       "  <tbody>\n",
       "    <tr>\n",
       "      <th>0</th>\n",
       "      <td>683667</td>\n",
       "      <td>PFSK-1</td>\n",
       "      <td>MB</td>\n",
       "      <td>1003</td>\n",
       "      <td>Camptothecin</td>\n",
       "      <td>-1.463887</td>\n",
       "      <td>0.930220</td>\n",
       "      <td>0.433123</td>\n",
       "      <td>nervous_system</td>\n",
       "      <td>medulloblastoma</td>\n",
       "      <td>MB</td>\n",
       "      <td>MSS/MSI-L</td>\n",
       "      <td>R</td>\n",
       "      <td>Adherent</td>\n",
       "      <td>Y</td>\n",
       "      <td>Y</td>\n",
       "      <td>Y</td>\n",
       "      <td>TOP1</td>\n",
       "      <td>DNA replication</td>\n",
       "    </tr>\n",
       "    <tr>\n",
       "      <th>1</th>\n",
       "      <td>684057</td>\n",
       "      <td>ES5</td>\n",
       "      <td>UNCLASSIFIED</td>\n",
       "      <td>1003</td>\n",
       "      <td>Camptothecin</td>\n",
       "      <td>-3.360586</td>\n",
       "      <td>0.791072</td>\n",
       "      <td>-0.599569</td>\n",
       "      <td>bone</td>\n",
       "      <td>ewings_sarcoma</td>\n",
       "      <td>NaN</td>\n",
       "      <td>MSS/MSI-L</td>\n",
       "      <td>R</td>\n",
       "      <td>Adherent</td>\n",
       "      <td>Y</td>\n",
       "      <td>Y</td>\n",
       "      <td>Y</td>\n",
       "      <td>TOP1</td>\n",
       "      <td>DNA replication</td>\n",
       "    </tr>\n",
       "    <tr>\n",
       "      <th>2</th>\n",
       "      <td>684059</td>\n",
       "      <td>ES7</td>\n",
       "      <td>UNCLASSIFIED</td>\n",
       "      <td>1003</td>\n",
       "      <td>Camptothecin</td>\n",
       "      <td>-5.044940</td>\n",
       "      <td>0.592660</td>\n",
       "      <td>-1.516647</td>\n",
       "      <td>bone</td>\n",
       "      <td>ewings_sarcoma</td>\n",
       "      <td>NaN</td>\n",
       "      <td>MSS/MSI-L</td>\n",
       "      <td>R</td>\n",
       "      <td>Adherent</td>\n",
       "      <td>Y</td>\n",
       "      <td>Y</td>\n",
       "      <td>Y</td>\n",
       "      <td>TOP1</td>\n",
       "      <td>DNA replication</td>\n",
       "    </tr>\n",
       "    <tr>\n",
       "      <th>3</th>\n",
       "      <td>684062</td>\n",
       "      <td>EW-11</td>\n",
       "      <td>UNCLASSIFIED</td>\n",
       "      <td>1003</td>\n",
       "      <td>Camptothecin</td>\n",
       "      <td>-3.741991</td>\n",
       "      <td>0.734047</td>\n",
       "      <td>-0.807232</td>\n",
       "      <td>bone</td>\n",
       "      <td>ewings_sarcoma</td>\n",
       "      <td>NaN</td>\n",
       "      <td>MSS/MSI-L</td>\n",
       "      <td>R</td>\n",
       "      <td>Adherent</td>\n",
       "      <td>Y</td>\n",
       "      <td>Y</td>\n",
       "      <td>Y</td>\n",
       "      <td>TOP1</td>\n",
       "      <td>DNA replication</td>\n",
       "    </tr>\n",
       "    <tr>\n",
       "      <th>4</th>\n",
       "      <td>684072</td>\n",
       "      <td>SK-ES-1</td>\n",
       "      <td>UNCLASSIFIED</td>\n",
       "      <td>1003</td>\n",
       "      <td>Camptothecin</td>\n",
       "      <td>-5.142961</td>\n",
       "      <td>0.582439</td>\n",
       "      <td>-1.570016</td>\n",
       "      <td>bone</td>\n",
       "      <td>ewings_sarcoma</td>\n",
       "      <td>NaN</td>\n",
       "      <td>MSS/MSI-L</td>\n",
       "      <td>R</td>\n",
       "      <td>Semi-Adherent</td>\n",
       "      <td>Y</td>\n",
       "      <td>Y</td>\n",
       "      <td>Y</td>\n",
       "      <td>TOP1</td>\n",
       "      <td>DNA replication</td>\n",
       "    </tr>\n",
       "  </tbody>\n",
       "</table>\n",
       "</div>"
      ],
      "text/plain": [
       "   COSMIC_ID CELL_LINE_NAME     TCGA_DESC  DRUG_ID     DRUG_NAME   LN_IC50  \\\n",
       "0     683667         PFSK-1            MB     1003  Camptothecin -1.463887   \n",
       "1     684057            ES5  UNCLASSIFIED     1003  Camptothecin -3.360586   \n",
       "2     684059            ES7  UNCLASSIFIED     1003  Camptothecin -5.044940   \n",
       "3     684062          EW-11  UNCLASSIFIED     1003  Camptothecin -3.741991   \n",
       "4     684072        SK-ES-1  UNCLASSIFIED     1003  Camptothecin -5.142961   \n",
       "\n",
       "        AUC   Z_SCORE GDSC Tissue descriptor 1 GDSC Tissue descriptor 2  \\\n",
       "0  0.930220  0.433123           nervous_system          medulloblastoma   \n",
       "1  0.791072 -0.599569                     bone           ewings_sarcoma   \n",
       "2  0.592660 -1.516647                     bone           ewings_sarcoma   \n",
       "3  0.734047 -0.807232                     bone           ewings_sarcoma   \n",
       "4  0.582439 -1.570016                     bone           ewings_sarcoma   \n",
       "\n",
       "  Cancer Type (matching TCGA label) Microsatellite instability Status (MSI)  \\\n",
       "0                                MB                               MSS/MSI-L   \n",
       "1                               NaN                               MSS/MSI-L   \n",
       "2                               NaN                               MSS/MSI-L   \n",
       "3                               NaN                               MSS/MSI-L   \n",
       "4                               NaN                               MSS/MSI-L   \n",
       "\n",
       "  Screen Medium Growth Properties CNA Gene Expression Methylation TARGET  \\\n",
       "0             R          Adherent   Y               Y           Y   TOP1   \n",
       "1             R          Adherent   Y               Y           Y   TOP1   \n",
       "2             R          Adherent   Y               Y           Y   TOP1   \n",
       "3             R          Adherent   Y               Y           Y   TOP1   \n",
       "4             R     Semi-Adherent   Y               Y           Y   TOP1   \n",
       "\n",
       "    TARGET_PATHWAY  \n",
       "0  DNA replication  \n",
       "1  DNA replication  \n",
       "2  DNA replication  \n",
       "3  DNA replication  \n",
       "4  DNA replication  "
      ]
     },
     "execution_count": 9,
     "metadata": {},
     "output_type": "execute_result"
    }
   ],
   "source": [
    " df.head()"
   ]
  },
  {
   "cell_type": "code",
   "execution_count": 10,
   "id": "e730ddc3",
   "metadata": {},
   "outputs": [],
   "source": [
    " from sklearn.preprocessing import LabelEncoder"
   ]
  },
  {
   "cell_type": "code",
   "execution_count": 11,
   "id": "1af53591",
   "metadata": {},
   "outputs": [],
   "source": [
    "categorical_cols=df.select_dtypes(include=['object']).columns"
   ]
  },
  {
   "cell_type": "code",
   "execution_count": 12,
   "id": "74caa112",
   "metadata": {},
   "outputs": [],
   "source": [
    " label_encoders={}\n",
    "        \n",
    "        \n",
    " for col in categorical_cols:\n",
    "      le=LabelEncoder()\n",
    "      df[col]=le.fit_transform(df[col].astype(str))\n",
    "      label_encoders[col]=le"
   ]
  },
  {
   "cell_type": "code",
   "execution_count": 13,
   "id": "c10ea3dd",
   "metadata": {},
   "outputs": [],
   "source": [
    "df.fillna(df.median(numeric_only=True),inplace=True)"
   ]
  },
  {
   "cell_type": "code",
   "execution_count": 14,
   "id": "7daa2fed",
   "metadata": {},
   "outputs": [
    {
     "name": "stdout",
     "output_type": "stream",
     "text": [
      "Index(['COSMIC_ID', 'CELL_LINE_NAME', 'TCGA_DESC', 'DRUG_ID', 'DRUG_NAME',\n",
      "       'LN_IC50', 'AUC', 'Z_SCORE', 'GDSC Tissue descriptor 1',\n",
      "       'GDSC Tissue descriptor 2', 'Cancer Type (matching TCGA label)',\n",
      "       'Microsatellite instability Status (MSI)', 'Screen Medium',\n",
      "       'Growth Properties', 'CNA', 'Gene Expression', 'Methylation', 'TARGET',\n",
      "       'TARGET_PATHWAY'],\n",
      "      dtype='object')\n"
     ]
    }
   ],
   "source": [
    "print(df.columns)"
   ]
  },
  {
   "cell_type": "code",
   "execution_count": 15,
   "id": "8f5e590b",
   "metadata": {},
   "outputs": [],
   "source": [
    "# Selecting features (X) and target variable (y)\n",
    "target = \"LN_IC50\"  # Dependent variable\n",
    "features = [\"DRUG_ID\", \"GDSC Tissue descriptor 1\", \"GDSC Tissue descriptor 2\", \n",
    "            \"Cancer Type (matching TCGA label)\", \"Microsatellite instability Status (MSI)\"]"
   ]
  },
  {
   "cell_type": "code",
   "execution_count": 16,
   "id": "39f2c053",
   "metadata": {},
   "outputs": [
    {
     "name": "stdout",
     "output_type": "stream",
     "text": [
      "Index(['COSMIC_ID', 'CELL_LINE_NAME', 'TCGA_DESC', 'DRUG_ID', 'DRUG_NAME',\n",
      "       'LN_IC50', 'AUC', 'Z_SCORE', 'GDSC Tissue descriptor 1',\n",
      "       'GDSC Tissue descriptor 2', 'Cancer Type (matching TCGA label)',\n",
      "       'Microsatellite instability Status (MSI)', 'Screen Medium',\n",
      "       'Growth Properties', 'CNA', 'Gene Expression', 'Methylation', 'TARGET',\n",
      "       'TARGET_PATHWAY'],\n",
      "      dtype='object')\n"
     ]
    }
   ],
   "source": [
    "print(df.columns)"
   ]
  },
  {
   "cell_type": "code",
   "execution_count": 17,
   "id": "b6b10b04",
   "metadata": {},
   "outputs": [],
   "source": [
    "X = df.drop(columns=[\"TARGET\"])  # Features (remove the target column)\n",
    "y = df[\"TARGET\"]  # Target variable"
   ]
  },
  {
   "cell_type": "code",
   "execution_count": 18,
   "id": "a1c228d6",
   "metadata": {},
   "outputs": [],
   "source": [
    "df.columns = df.columns.str.strip()"
   ]
  },
  {
   "cell_type": "code",
   "execution_count": 19,
   "id": "2ecbbaa4",
   "metadata": {},
   "outputs": [
    {
     "name": "stdout",
     "output_type": "stream",
     "text": [
      "Column exists!\n"
     ]
    }
   ],
   "source": [
    "if \"Microsatellite instability Status (MSI)\" in df.columns:\n",
    "    print(\"Column exists!\")\n",
    "else:\n",
    "    print(\"Column is missing! Check spelling.\")"
   ]
  },
  {
   "cell_type": "code",
   "execution_count": 20,
   "id": "a1cfd533",
   "metadata": {},
   "outputs": [],
   "source": [
    "df[\"Microsatellite instability Status (MSI)\"] = df[\"Microsatellite instability Status (MSI)\"].fillna(\"Unknown\")"
   ]
  },
  {
   "cell_type": "code",
   "execution_count": 21,
   "id": "4d516b7c",
   "metadata": {},
   "outputs": [
    {
     "name": "stdout",
     "output_type": "stream",
     "text": [
      "['DRUG_ID', 'GDSC Tissue descriptor 1', 'GDSC Tissue descriptor 2', 'Cancer Type (matching TCGA label)', 'Microsatellite instability Status (MSI)']\n"
     ]
    }
   ],
   "source": [
    "print(features)"
   ]
  },
  {
   "cell_type": "code",
   "execution_count": 22,
   "id": "af671139",
   "metadata": {},
   "outputs": [],
   "source": [
    "if \"Microsatellite instability Status (MSI)\" in features:\n",
    "    features.remove(\"Microsatellite instability Status (MSI)\")"
   ]
  },
  {
   "cell_type": "code",
   "execution_count": 23,
   "id": "96a1965e",
   "metadata": {},
   "outputs": [
    {
     "name": "stdout",
     "output_type": "stream",
     "text": [
      "['Microsatellite instability Status (MSI)']\n"
     ]
    }
   ],
   "source": [
    "print([col for col in df.columns if \"Microsatellite\" in col])"
   ]
  },
  {
   "cell_type": "code",
   "execution_count": 24,
   "id": "791f4570",
   "metadata": {},
   "outputs": [],
   "source": [
    "df.columns = df.columns.str.strip()"
   ]
  },
  {
   "cell_type": "code",
   "execution_count": 25,
   "id": "15fabff3",
   "metadata": {},
   "outputs": [
    {
     "name": "stdout",
     "output_type": "stream",
     "text": [
      "['DRUG_ID', 'GDSC Tissue descriptor 1', 'GDSC Tissue descriptor 2', 'Cancer Type (matching TCGA label)']\n"
     ]
    }
   ],
   "source": [
    "print(features)"
   ]
  },
  {
   "cell_type": "code",
   "execution_count": 26,
   "id": "b0972b1b",
   "metadata": {},
   "outputs": [
    {
     "name": "stdout",
     "output_type": "stream",
     "text": [
      "Microsatellite instability Status (MSI)\n"
     ]
    }
   ],
   "source": [
    "for col in df.columns:\n",
    "    if \"Microsatellite\" in col:\n",
    "        print(col)"
   ]
  },
  {
   "cell_type": "code",
   "execution_count": 27,
   "id": "90fddab8",
   "metadata": {},
   "outputs": [],
   "source": [
    "features = ['DRUG_ID', 'GDSC Tissue descriptor 1', 'GDSC Tissue descriptor 2', \n",
    "            'Cancer Type (matching TCGA label)', 'Microsatellite instability Status (MSI)']"
   ]
  },
  {
   "cell_type": "code",
   "execution_count": 28,
   "id": "0cc98650",
   "metadata": {},
   "outputs": [
    {
     "name": "stdout",
     "output_type": "stream",
     "text": [
      "['DRUG_ID', 'GDSC Tissue descriptor 1', 'GDSC Tissue descriptor 2', 'Cancer Type (matching TCGA label)']\n"
     ]
    }
   ],
   "source": [
    "features.remove(\"Microsatellite instability Status (MSI)\")\n",
    "print(features)"
   ]
  },
  {
   "cell_type": "code",
   "execution_count": 29,
   "id": "1c224676",
   "metadata": {},
   "outputs": [],
   "source": [
    "df.columns = df.columns.str.strip()"
   ]
  },
  {
   "cell_type": "code",
   "execution_count": 30,
   "id": "d643e29a",
   "metadata": {},
   "outputs": [
    {
     "name": "stdout",
     "output_type": "stream",
     "text": [
      "['COSMIC_ID', 'CELL_LINE_NAME', 'TCGA_DESC', 'DRUG_ID', 'DRUG_NAME', 'LN_IC50', 'AUC', 'Z_SCORE', 'GDSC Tissue descriptor 1', 'GDSC Tissue descriptor 2', 'Cancer Type (matching TCGA label)', 'Microsatellite instability Status (MSI)', 'Screen Medium', 'Growth Properties', 'CNA', 'Gene Expression', 'Methylation', 'TARGET', 'TARGET_PATHWAY']\n"
     ]
    }
   ],
   "source": [
    "print(df.columns.tolist())"
   ]
  },
  {
   "cell_type": "code",
   "execution_count": null,
   "id": "682fc8b5",
   "metadata": {},
   "outputs": [],
   "source": []
  },
  {
   "cell_type": "code",
   "execution_count": 31,
   "id": "fc9e0d0f",
   "metadata": {},
   "outputs": [],
   "source": [
    " df = df[features + [target]]"
   ]
  },
  {
   "cell_type": "code",
   "execution_count": 32,
   "id": "84c2bf8b",
   "metadata": {},
   "outputs": [],
   "source": [
    "X = df[features]\n",
    "y = df[target]\n",
    "\n",
    "X_train, X_test, y_train, y_test = train_test_split(X, y, test_size=0.2, random_state=42)"
   ]
  },
  {
   "cell_type": "code",
   "execution_count": 33,
   "id": "4960f67d",
   "metadata": {},
   "outputs": [
    {
     "name": "stdout",
     "output_type": "stream",
     "text": [
      "        DRUG_ID  GDSC Tissue descriptor 1  GDSC Tissue descriptor 2  \\\n",
      "84593      1494                        11                        39   \n",
      "13370      1019                         6                         7   \n",
      "82960      1463                         9                        32   \n",
      "130118     1720                         5                        24   \n",
      "144418     1803                         6                         7   \n",
      "...         ...                       ...                       ...   \n",
      "119879     1630                        14                        41   \n",
      "103694     1585                        18                        52   \n",
      "131932     1733                        13                        36   \n",
      "146867     1808                         3                        26   \n",
      "121958     1632                         8                        31   \n",
      "\n",
      "        Cancer Type (matching TCGA label)  \n",
      "84593                                  20  \n",
      "13370                                  12  \n",
      "82960                                  25  \n",
      "130118                                  6  \n",
      "144418                                 12  \n",
      "...                                   ...  \n",
      "119879                                 21  \n",
      "103694                                 28  \n",
      "131932                                 18  \n",
      "146867                                 15  \n",
      "121958                                 17  \n",
      "\n",
      "[193628 rows x 4 columns]\n"
     ]
    }
   ],
   "source": [
    "print(X_train)\n"
   ]
  },
  {
   "cell_type": "code",
   "execution_count": 34,
   "id": "551a5fec",
   "metadata": {},
   "outputs": [
    {
     "data": {
      "text/plain": [
       "XGBRegressor(base_score=None, booster=None, callbacks=None,\n",
       "             colsample_bylevel=None, colsample_bynode=None,\n",
       "             colsample_bytree=None, device=None, early_stopping_rounds=None,\n",
       "             enable_categorical=False, eval_metric=None, feature_types=None,\n",
       "             gamma=None, grow_policy=None, importance_type=None,\n",
       "             interaction_constraints=None, learning_rate=0.1, max_bin=None,\n",
       "             max_cat_threshold=None, max_cat_to_onehot=None,\n",
       "             max_delta_step=None, max_depth=5, max_leaves=None,\n",
       "             min_child_weight=None, missing=nan, monotone_constraints=None,\n",
       "             multi_strategy=None, n_estimators=100, n_jobs=None,\n",
       "             num_parallel_tree=None, random_state=42, ...)"
      ]
     },
     "execution_count": 34,
     "metadata": {},
     "output_type": "execute_result"
    }
   ],
   "source": [
    "xgb_regressor = xgb.XGBRegressor(objective=\"reg:squarederror\", n_estimators=100, learning_rate=0.1, max_depth=5, random_state=42)\n",
    "xgb_regressor.fit(X_train, y_train)"
   ]
  },
  {
   "cell_type": "code",
   "execution_count": 35,
   "id": "aee19b56",
   "metadata": {},
   "outputs": [
    {
     "name": "stdout",
     "output_type": "stream",
     "text": [
      "84593    -5.294142\n",
      "13370     1.070032\n",
      "82960     2.657331\n",
      "130118    5.462135\n",
      "144418    4.956850\n",
      "            ...   \n",
      "119879    4.124450\n",
      "103694    4.473480\n",
      "131932    1.665796\n",
      "146867    3.108810\n",
      "121958    2.735671\n",
      "Name: LN_IC50, Length: 193628, dtype: float64\n"
     ]
    }
   ],
   "source": [
    "print(y_train)"
   ]
  },
  {
   "cell_type": "code",
   "execution_count": 36,
   "id": "b04500a1",
   "metadata": {},
   "outputs": [],
   "source": [
    "# Predictions\n",
    "y_pred = xgb_regressor.predict(X_test)\n"
   ]
  },
  {
   "cell_type": "code",
   "execution_count": 39,
   "id": "b0530e55",
   "metadata": {
    "scrolled": true
   },
   "outputs": [],
   "source": [
    "# Model Evaluation\n",
    "rmse = np.sqrt(mean_squared_error(y_test, y_pred))\n",
    "r2 = r2_score(y_test, y_pred)"
   ]
  },
  {
   "cell_type": "code",
   "execution_count": 40,
   "id": "3f701d77",
   "metadata": {},
   "outputs": [
    {
     "name": "stdout",
     "output_type": "stream",
     "text": [
      "Root Mean Squared Error (RMSE): 1.8072\n",
      "R² Score: 0.5719\n"
     ]
    }
   ],
   "source": [
    "print(f\"Root Mean Squared Error (RMSE): {rmse:.4f}\")\n",
    "print(f\"R² Score: {r2:.4f}\")"
   ]
  },
  {
   "cell_type": "code",
   "execution_count": 41,
   "id": "324c7798",
   "metadata": {},
   "outputs": [
    {
     "data": {
      "image/png": "[encoded data removed]",
      "text/plain": [
       "<Figure size 576x432 with 1 Axes>"
      ]
     },
     "metadata": {
      "needs_background": "light"
     },
     "output_type": "display_data"
    }
   ],
   "source": [
    "import matplotlib.pyplot as plt\n",
    "\n",
    "plt.figure(figsize=(8,6))\n",
    "plt.scatter(y_test, y_pred, color=\"blue\", alpha=0.5, label=\"Predicted\")\n",
    "plt.plot([min(y_test), max(y_test)], [min(y_test), max(y_test)], linestyle=\"--\", color=\"red\", label=\"Perfect Fit\")\n",
    "plt.xlabel(\"Actual Values\")\n",
    "plt.ylabel(\"Predicted Values\")\n",
    "plt.title(\"Actual vs Predicted (XGBoost)\")\n",
    "plt.legend()\n",
    "plt.show()\n",
    "\n"
   ]
  },
  {
   "cell_type": "code",
   "execution_count": 42,
   "id": "db174f25",
   "metadata": {},
   "outputs": [
    {
     "data": {
      "image/png": "[encoded data removed]",
      "text/plain": [
       "<Figure size 576x432 with 1 Axes>"
      ]
     },
     "metadata": {
      "needs_background": "light"
     },
     "output_type": "display_data"
    }
   ],
   "source": [
    "residuals = y_test - y_pred\n",
    "\n",
    "plt.figure(figsize=(8,6))\n",
    "plt.hist(residuals, bins=30, color=\"purple\", alpha=0.7)\n",
    "plt.xlabel(\"Prediction Error\")\n",
    "plt.ylabel(\"Frequency\")\n",
    "plt.title(\"Residual Histogram\")\n",
    "plt.show()"
   ]
  },
  {
   "cell_type": "code",
   "execution_count": 43,
   "id": "e78f0dbf",
   "metadata": {},
   "outputs": [
    {
     "name": "stdout",
     "output_type": "stream",
     "text": [
      "Mean Squared Error (MSE): 3.2659\n",
      "R-squared (R²): 0.5719\n"
     ]
    }
   ],
   "source": [
    "from sklearn.metrics import mean_squared_error, r2_score\n",
    "\n",
    "mse = mean_squared_error(y_test, y_pred)\n",
    "r2 = r2_score(y_test, y_pred)\n",
    "\n",
    "print(f\"Mean Squared Error (MSE): {mse:.4f}\")\n",
    "print(f\"R-squared (R²): {r2:.4f}\")\n"
   ]
  },
  {
   "cell_type": "code",
   "execution_count": null,
   "id": "37ccad5b",
   "metadata": {},
   "outputs": [],
   "source": []
  }
 ],
 "metadata": {
  "kernelspec": {
   "display_name": "Python 3 (ipykernel)",
   "language": "python",
   "name": "python3"
  },
  "language_info": {
   "codemirror_mode": {
    "name": "ipython",
    "version": 3
   },
   "file_extension": ".py",
   "mimetype": "text/x-python",
   "name": "python",
   "nbconvert_exporter": "python",
   "pygments_lexer": "ipython3",
   "version": "3.9.7"
  }
 },
 "nbformat": 4,
 "nbformat_minor": 5
}
